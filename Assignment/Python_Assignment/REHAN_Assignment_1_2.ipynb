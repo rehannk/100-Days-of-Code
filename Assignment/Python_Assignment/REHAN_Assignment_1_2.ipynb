{
 "cells": [
  {
   "cell_type": "markdown",
   "metadata": {},
   "source": [
    "## Python Data Type: String - Exercises"
   ]
  },
  {
   "cell_type": "markdown",
   "metadata": {},
   "source": [
    "#### 1. Write a Python program to count the number of characters (character frequency) in a string \n",
    "* Sample String : google.com'\n",
    "* Expected Result : {'o': 3, 'g': 2, '.': 1, 'e': 1, 'l': 1, 'm': 1, 'c': 1}"
   ]
  },
  {
   "cell_type": "code",
   "execution_count": 1,
   "metadata": {},
   "outputs": [
    {
     "name": "stdout",
     "output_type": "stream",
     "text": [
      "{'g': 2, 'o': 3, 'l': 1, 'e': 1, '.': 1, 'c': 1, 'm': 1}\n"
     ]
    }
   ],
   "source": [
    "str=\"google.com\"\n",
    "cnt_Array={}\n",
    "\n",
    "for i in str:\n",
    "    if i in cnt_Array:\n",
    "        cnt_Array[i]=cnt_Array[i]+1\n",
    "    else:\n",
    "        cnt_Array[i]=1\n",
    "    \n",
    "print(cnt_Array)\n",
    "#print(cnt_Array)"
   ]
  },
  {
   "cell_type": "markdown",
   "metadata": {},
   "source": [
    "#### 2. Write a Python program to get a string from a given string where all occurrences of its first char have been changed to '$' ,except the first char itself\n",
    "\n",
    "* Sample String : 'restart'\n",
    "* Expected Result : 'resta$t' "
   ]
  },
  {
   "cell_type": "code",
   "execution_count": 6,
   "metadata": {},
   "outputs": [
    {
     "name": "stdout",
     "output_type": "stream",
     "text": [
      "resta$t\n"
     ]
    }
   ],
   "source": [
    "str=\"restart\"\n",
    "first=str[0]\n",
    "str=str.replace(first,'$')\n",
    "print(first + str[1:])"
   ]
  },
  {
   "cell_type": "markdown",
   "metadata": {},
   "source": [
    "#### 3. Write a Python function that takes a list of words and returns the length of the longest one\n"
   ]
  },
  {
   "cell_type": "code",
   "execution_count": 3,
   "metadata": {},
   "outputs": [
    {
     "name": "stdout",
     "output_type": "stream",
     "text": [
      "longest word is:  Python\n"
     ]
    }
   ],
   "source": [
    "a=[\"Go\",\"Java\",\"Python\",\"Dart\"]\n",
    "max1=len(a[0])\n",
    "data=a[0]\n",
    "for i in a:\n",
    "    if(len(i)>max1):\n",
    "       max1=len(i)\n",
    "       data=i\n",
    "print(\"longest word is: \" , data)"
   ]
  },
  {
   "cell_type": "markdown",
   "metadata": {},
   "source": [
    "#### 4. Write a Python program to count the occurrences of each word in a given sentence"
   ]
  },
  {
   "cell_type": "code",
   "execution_count": 4,
   "metadata": {},
   "outputs": [
    {
     "name": "stdout",
     "output_type": "stream",
     "text": [
      "{'this': 2, 'is': 3, 'the': 2, 'assignment': 3, 'starting': 1, 'end': 1, 'of': 1}\n"
     ]
    }
   ],
   "source": [
    "str = \"this is the assignment starting assignment is the end of assignment is this\"\n",
    "\n",
    "cnt={}\n",
    "word = str.split()\n",
    "\n",
    "for i in word:\n",
    "    if i in cnt:\n",
    "        cnt[i] += 1\n",
    "    else:\n",
    "        cnt[i] = 1\n",
    "print(cnt)"
   ]
  },
  {
   "cell_type": "markdown",
   "metadata": {},
   "source": [
    "#### 5. Write a Python function to convert a given string to all uppercase if it contains at least 2 uppercase characters in the first 4 characters."
   ]
  },
  {
   "cell_type": "code",
   "execution_count": 5,
   "metadata": {},
   "outputs": [
    {
     "name": "stdout",
     "output_type": "stream",
     "text": [
      "Engineering\n",
      "ENGINEERING\n"
     ]
    }
   ],
   "source": [
    "def def_upper(str):\n",
    "    cnt=0\n",
    "    for i in str[:4]:\n",
    "        if(i.upper() == i):\n",
    "           cnt=cnt+1\n",
    "    if cnt>=2:\n",
    "           return str.upper()\n",
    "    else:\n",
    "           return str\n",
    "           \n",
    "print(def_upper(\"Engineering\"))\n",
    "print(def_upper(\"ENgIneering\"))"
   ]
  },
  {
   "cell_type": "markdown",
   "metadata": {},
   "source": [
    "#### 6. Write a Python program to count and display the vowels of a given text"
   ]
  },
  {
   "cell_type": "code",
   "execution_count": 6,
   "metadata": {},
   "outputs": [
    {
     "name": "stdout",
     "output_type": "stream",
     "text": [
      "Total number of vowels are : 9\n"
     ]
    }
   ],
   "source": [
    "str=\"This is a vovel example string\"\n",
    "cnt=0\n",
    "for i in str:\n",
    "      if(i=='a' or i=='e' or i=='i' or i=='o' or i=='u' or i=='A' or i=='E' or i=='I' or i=='O' or i=='U'):\n",
    "            cnt=cnt+1\n",
    "print(\"Total number of vowels are :\",cnt)"
   ]
  },
  {
   "cell_type": "code",
   "execution_count": null,
   "metadata": {},
   "outputs": [],
   "source": [
    "## Python Data Type: List - Exercises"
   ]
  },
  {
   "cell_type": "markdown",
   "metadata": {},
   "source": [
    "#### 1. Write a Python program to check a list is empty or not\n"
   ]
  },
  {
   "cell_type": "code",
   "execution_count": 7,
   "metadata": {},
   "outputs": [
    {
     "name": "stdout",
     "output_type": "stream",
     "text": [
      "List is Empty\n"
     ]
    }
   ],
   "source": [
    "list=[]\n",
    "\n",
    "if len(list)==0:\n",
    "    print(\"List is Empty\")\n",
    "else:\n",
    "    print(\"List is Not Empty\")"
   ]
  },
  {
   "cell_type": "markdown",
   "metadata": {},
   "source": [
    "#### 2. Write a Python program to remove duplicates from a list.\n"
   ]
  },
  {
   "cell_type": "code",
   "execution_count": 8,
   "metadata": {},
   "outputs": [
    {
     "name": "stdout",
     "output_type": "stream",
     "text": [
      "[10, 20, 30, 40, 50, 60]\n"
     ]
    }
   ],
   "source": [
    "list=[10,20,30,40,40,50,10,30,60,20]\n",
    "second = []\n",
    "for n in list:\n",
    "    if n not in second:\n",
    "        second.append(n)\n",
    "print(second)"
   ]
  },
  {
   "cell_type": "markdown",
   "metadata": {},
   "source": [
    "#### 3. Write a Python function that takes two lists and returns True if they have at least one common member\n"
   ]
  },
  {
   "cell_type": "code",
   "execution_count": 10,
   "metadata": {},
   "outputs": [
    {
     "name": "stdout",
     "output_type": "stream",
     "text": [
      "True\n"
     ]
    }
   ],
   "source": [
    "def check(list1, list2): \n",
    "    flag = False\n",
    "    \n",
    "    for x in list1: \n",
    "        for y in list2: \n",
    "            if x == y: \n",
    "                flag = True\n",
    "    return flag\n",
    "\n",
    "list1=[1, 3, 5, 7, 9] \n",
    "list2=[0, 2, 4, 9, 1] \n",
    "print(check(list1, list2))"
   ]
  },
  {
   "cell_type": "markdown",
   "metadata": {},
   "source": [
    "#### 4. Write a Python program to get the difference between the two lists\n"
   ]
  },
  {
   "cell_type": "code",
   "execution_count": 11,
   "metadata": {},
   "outputs": [
    {
     "name": "stdout",
     "output_type": "stream",
     "text": [
      "[1, 2, 4]\n"
     ]
    }
   ],
   "source": [
    "a=[1,2,10,4,8,6]\n",
    "b=[6,8,10]\n",
    "arr=[]\n",
    "\n",
    "for i in a:\n",
    "    if not i in b:\n",
    "        arr.append(i)\n",
    "print(arr)"
   ]
  },
  {
   "cell_type": "markdown",
   "metadata": {},
   "source": [
    "#### 5. Write a Python program to find the second smallest number in a list\n"
   ]
  },
  {
   "cell_type": "code",
   "execution_count": 13,
   "metadata": {},
   "outputs": [
    {
     "name": "stdout",
     "output_type": "stream",
     "text": [
      "2nd smallest element is : 2\n"
     ]
    }
   ],
   "source": [
    "a = [2,20,5,1,8,6,10]\n",
    "first = a[0]\n",
    "second = None\n",
    "for i in a[1:]:       \n",
    "    if i < first:  \n",
    "        second = first \n",
    "        first = i  \n",
    "    elif second == None or second > i:  \n",
    "        second = i\n",
    "                \n",
    "print(\"2nd smallest element is :\", second) "
   ]
  },
  {
   "cell_type": "markdown",
   "metadata": {},
   "source": [
    "#### 6.  Write a Python program to find the second largest number in a list.\n"
   ]
  },
  {
   "cell_type": "code",
   "execution_count": 15,
   "metadata": {},
   "outputs": [
    {
     "name": "stdout",
     "output_type": "stream",
     "text": [
      "2nd largest element is : 10\n"
     ]
    }
   ],
   "source": [
    "a = [2,20,5,1,8,6,10]\n",
    "first = a[0]\n",
    "second = None\n",
    "for i in a[1:]:       \n",
    "    if i > first:\n",
    "        second = first \n",
    "        first = i  \n",
    "    elif second == None or second < i:  \n",
    "        second = i\n",
    "                \n",
    "print(\"2nd largest element is :\", second) "
   ]
  },
  {
   "cell_type": "markdown",
   "metadata": {},
   "source": [
    "#### 7. Write a Python program to get the frequency of the elements in a list\n"
   ]
  },
  {
   "cell_type": "code",
   "execution_count": 22,
   "metadata": {},
   "outputs": [
    {
     "name": "stdout",
     "output_type": "stream",
     "text": [
      "Counter({10: 3, 20: 3, 30: 2, 40: 2, 50: 2, 70: 1})\n"
     ]
    }
   ],
   "source": [
    "import collections\n",
    "a = [10,30,40,20,70,10,40,20,10,50,30,20,50]\n",
    "counter=collections.Counter(a)\n",
    "print(counter)"
   ]
  },
  {
   "cell_type": "markdown",
   "metadata": {},
   "source": [
    "#### 8. Write a Python program to convert a list of multiple integers into a single integer\n",
    "* Sample list: [11, 33, 50]\n",
    "* Expected Output: 113350\n"
   ]
  },
  {
   "cell_type": "code",
   "execution_count": 19,
   "metadata": {},
   "outputs": [
    {
     "name": "stdout",
     "output_type": "stream",
     "text": [
      "113350"
     ]
    }
   ],
   "source": [
    "list=[11,33,50]\n",
    "for i in list: \n",
    "    print(i, end=\"\")"
   ]
  },
  {
   "cell_type": "markdown",
   "metadata": {},
   "source": [
    "#### 9. Write a Python program to compute the similarity between two lists.\n",
    "* Sample data: [\"red\", \"orange\", \"green\", \"blue\", \"white\"], [\"black\", \"yellow\", \"green\", \"blue\"]\n",
    "* Expected Output: \n",
    "* Color1-Color2: ['white', 'orange', 'red']\n",
    "* Color2-Color1: ['black', 'yellow']\n"
   ]
  },
  {
   "cell_type": "code",
   "execution_count": 5,
   "metadata": {},
   "outputs": [
    {
     "name": "stdout",
     "output_type": "stream",
     "text": [
      "Color1-Color2:  dict_keys(['red', 'orange', 'white'])\n",
      "Color2-Color1:  dict_keys(['black', 'yellow'])\n"
     ]
    }
   ],
   "source": [
    "import collections\n",
    "\n",
    "clr1 = [\"red\", \"orange\", \"green\", \"blue\", \"white\"]\n",
    "clr2 = [\"black\", \"yellow\", \"green\", \"blue\"]\n",
    "cnt1 = Counter(clr1)\n",
    "cnt2 = Counter(clr2)\n",
    "\n",
    "print(\"Color1-Color2: \",Counter(cnt1 - cnt2).keys())\n",
    "print(\"Color2-Color1: \",Counter(cnt2 - cnt1).keys())"
   ]
  },
  {
   "cell_type": "markdown",
   "metadata": {},
   "source": [
    "#### 10. Write a Python program to check if all dictionaries in a list are empty or not.\n",
    "* Sample list : [{},{},{}]\n",
    "* Return value : True\n",
    "* Sample list : [{1,2},{},{}]\n",
    "* Return value : False\n"
   ]
  },
  {
   "cell_type": "code",
   "execution_count": 25,
   "metadata": {},
   "outputs": [
    {
     "name": "stdout",
     "output_type": "stream",
     "text": [
      "True\n",
      "False\n"
     ]
    }
   ],
   "source": [
    "a = [{},{},{}]\n",
    "b = [{1,2},{},{}]\n",
    "\n",
    "print(all(len(i) == 0 for i in a))\n",
    "print(all(len(i) == 0 for i in b))"
   ]
  },
  {
   "cell_type": "markdown",
   "metadata": {},
   "source": [
    "## Python Data Types: Dictionary\n"
   ]
  },
  {
   "cell_type": "markdown",
   "metadata": {},
   "source": [
    "#### 1. Write a Python script to generate and print a dictionary that contains a number (between 1 and n) in the form (x, x*x)\n",
    "* Sample Dictionary ( n = 5) : \n",
    "* Expected Output : {1: 1, 2: 4, 3: 9, 4: 16, 5: 25}\n"
   ]
  },
  {
   "cell_type": "code",
   "execution_count": 1,
   "metadata": {},
   "outputs": [
    {
     "name": "stdout",
     "output_type": "stream",
     "text": [
      "Enter Number : 5\n",
      "{1: 1, 2: 4, 3: 9, 4: 16, 5: 25}\n"
     ]
    }
   ],
   "source": [
    "n=int(input(\"Enter Number : \"))\n",
    "a = dict()\n",
    "\n",
    "for x in range(1,n+1):\n",
    "    a[x]=x*x\n",
    "print(a)"
   ]
  },
  {
   "cell_type": "markdown",
   "metadata": {},
   "source": [
    "#### 2. Write a Python program to combine two dictionary adding values for common keys\n",
    "* d1 = {'a': 100, 'b': 200, 'c':300}\n",
    "* d2 = {'a': 300, 'b': 200, 'd':400}\n",
    "* Sample output: Counter({'a': 400, 'b': 400, 'd': 400, 'c': 300})\n"
   ]
  },
  {
   "cell_type": "code",
   "execution_count": 4,
   "metadata": {},
   "outputs": [
    {
     "name": "stdout",
     "output_type": "stream",
     "text": [
      "Counter({'a': 400, 'b': 400, 'd': 400, 'c': 300})\n"
     ]
    }
   ],
   "source": [
    "from collections import Counter\n",
    "\n",
    "d1 = {'a': 100, 'b': 200, 'c':300}\n",
    "d2 = {'a': 300, 'b': 200, 'd':400}\n",
    "result = Counter(d1) + Counter(d2)\n",
    "print(result)"
   ]
  },
  {
   "cell_type": "markdown",
   "metadata": {},
   "source": [
    "#### 3. Write a Python program to print all unique values in a dictionary\n",
    "* Sample Data : [{\"V\":\"S001\"}, {\"V\": \"S002\"}, {\"VI\": \"S001\"}, {\"VI\": \"S005\"}, {\"VII\":\"S005\"}, {\"V\":\"S009\"},{\"VIII\":\"S007\"}]\n",
    "* Expected Output : Unique Values: {'S005', 'S002', 'S007', 'S001', 'S009'}\n"
   ]
  },
  {
   "cell_type": "code",
   "execution_count": 6,
   "metadata": {},
   "outputs": [
    {
     "name": "stdout",
     "output_type": "stream",
     "text": [
      "{'S001', 'S007', 'S002', 'S009', 'S005'}\n"
     ]
    }
   ],
   "source": [
    "lis=[{\"V\":\"S001\"}, {\"V\": \"S002\"}, {\"VI\": \"S001\"}, {\"VI\": \"S005\"}, {\"VII\":\"S005\"}, {\"V\":\"S009\"},{\"VIII\":\"S007\"}]\n",
    "\n",
    "s = set()\n",
    "for dic in lis:\n",
    "    for val in dic.values():\n",
    "        s.add(val)\n",
    "print(s)"
   ]
  },
  {
   "cell_type": "markdown",
   "metadata": {},
   "source": [
    "#### 4. Write a Python program to create and display all combinations of letters, selecting each letter from a different key in a dictionary.\n",
    "* Sample data : {'1':['a','b'], '2':['c','d']}\n",
    "###### Expected Output: \n",
    "ac\n",
    "ad\n",
    "bc\n",
    "bd\n"
   ]
  },
  {
   "cell_type": "code",
   "execution_count": 7,
   "metadata": {},
   "outputs": [
    {
     "name": "stdout",
     "output_type": "stream",
     "text": [
      "ac\n",
      "ad\n",
      "bc\n",
      "bd\n"
     ]
    }
   ],
   "source": [
    "import itertools      \n",
    "d ={'1':['a','b'], '2':['c','d']}\n",
    "for combo in itertools.product(*[d[k] for k in sorted(d.keys())]):\n",
    "    print(''.join(combo))"
   ]
  },
  {
   "cell_type": "markdown",
   "metadata": {},
   "source": [
    "#### 5. Write a Python program to create a dictionary from a string.\n",
    "* Note: Track the count of the letters from the string.\n",
    "* Sample string : 'w3resource'\n",
    "* Expected output: {'3': 1, 's': 1, 'r': 2, 'u': 1, 'w': 1, 'c': 1, 'e': 2, 'o': 1}\n"
   ]
  },
  {
   "cell_type": "code",
   "execution_count": 9,
   "metadata": {},
   "outputs": [
    {
     "name": "stdout",
     "output_type": "stream",
     "text": [
      "{'w': 1, '3': 1, 'r': 2, 'e': 2, 's': 1, 'o': 1, 'u': 1, 'c': 1}\n"
     ]
    }
   ],
   "source": [
    "str=\"w3resource\"\n",
    "dict={}\n",
    "\n",
    "for i in str:\n",
    "    if i in dict:\n",
    "        dict[i]=dict[i]+1\n",
    "    else:\n",
    "        dict[i]=1\n",
    "print(dict)"
   ]
  },
  {
   "cell_type": "markdown",
   "metadata": {},
   "source": [
    "#### 6. Write a Python program to count the values associated with key in a dictionary.\n",
    "* Sample data: = [{'id': 1, 'success': True, 'name': 'Lary'}, {'id': 2, 'success': False, 'name': 'Rabi'}, {'id': 3, 'success': True, 'name': 'Alex'}]\n",
    "* Expected result: Count of how many dictionaries have success as True\n"
   ]
  },
  {
   "cell_type": "code",
   "execution_count": 10,
   "metadata": {},
   "outputs": [
    {
     "name": "stdout",
     "output_type": "stream",
     "text": [
      "2\n"
     ]
    }
   ],
   "source": [
    "student = [{'id': 1, 'success': True, 'name': 'Lary'},\n",
    " {'id': 2, 'success': False, 'name': 'Rabi'},\n",
    " {'id': 3, 'success': True, 'name': 'Alex'}]\n",
    "print(sum(d['success'] for d in student))"
   ]
  },
  {
   "cell_type": "markdown",
   "metadata": {},
   "source": [
    "#### 7. Write a Python program to convert a list into a nested dictionary of keys.\n"
   ]
  },
  {
   "cell_type": "code",
   "execution_count": 11,
   "metadata": {},
   "outputs": [
    {
     "name": "stdout",
     "output_type": "stream",
     "text": [
      "{1: {2: {3: {4: {}}}}}\n"
     ]
    }
   ],
   "source": [
    "l = [1, 2, 3, 4]\n",
    "d = newd = {}\n",
    "for num in l:\n",
    "    newd[num] = {}\n",
    "    newd = newd[num]\n",
    "print(d)"
   ]
  },
  {
   "cell_type": "markdown",
   "metadata": {},
   "source": [
    "#### 8. Write a Python program to sort a list alphabetically in a dictionary.\n"
   ]
  },
  {
   "cell_type": "code",
   "execution_count": 12,
   "metadata": {},
   "outputs": [
    {
     "name": "stdout",
     "output_type": "stream",
     "text": [
      "{'d1': [1, 6, 8]}\n",
      "{'d2': [4, 9, 10]}\n",
      "{'d3': [0, 1, 9]}\n"
     ]
    }
   ],
   "source": [
    "dic = {'d1': [6, 8, 1], 'd2': [10, 9, 4], 'd3': [9, 1, 0]}\n",
    "\n",
    "for i,j in dic.items():\n",
    "    d={i: sorted(j)}\n",
    "    print(d)"
   ]
  },
  {
   "cell_type": "markdown",
   "metadata": {},
   "source": [
    "\n",
    "#### 9. Write a Python program to sort Counter by value.\n",
    "* Sample data : {'Math':81, 'Physics':83, 'Chemistry':87}\n",
    "* Expected data: [('Chemistry', 87), ('Physics', 83), ('Math', 81)]\n"
   ]
  },
  {
   "cell_type": "code",
   "execution_count": 14,
   "metadata": {},
   "outputs": [
    {
     "name": "stdout",
     "output_type": "stream",
     "text": [
      "[('Chemistry', 87), ('Physics', 83), ('Math', 81)]\n"
     ]
    }
   ],
   "source": [
    "import collections\n",
    "i = Counter({'Math':81, 'Physics':83, 'Chemistry':87})\n",
    "print(i.most_common())"
   ]
  },
  {
   "cell_type": "markdown",
   "metadata": {},
   "source": []
  },
  {
   "cell_type": "markdown",
   "metadata": {},
   "source": [
    "#### 10. Write a Python program to match key values in two dictionaries. Go to the editor\n",
    "* Sample dictionary: {'key1': 1, 'key2': 3, 'key3': 2}, {'key1': 1, 'key2': 2}\n",
    "* Expected output: key1: 1 is present in both x and y\n"
   ]
  },
  {
   "cell_type": "code",
   "execution_count": 20,
   "metadata": {},
   "outputs": [
    {
     "name": "stdout",
     "output_type": "stream",
     "text": [
      "key1: 1 is present in both x and y\n"
     ]
    }
   ],
   "source": [
    "x = {'key1': 1, 'key2': 3, 'key3': 2}\n",
    "y = {'key1': 1, 'key2': 2}\n",
    "\n",
    "for (key, value) in set(x.items()) & set(y.items()):\n",
    "    if a[key] == b[key]:\n",
    "        print('%s: %s is present in both x and y' % (key, value))"
   ]
  },
  {
   "cell_type": "markdown",
   "metadata": {},
   "source": [
    "### Python Data Types: Tuple - Exercises\n"
   ]
  },
  {
   "cell_type": "markdown",
   "metadata": {},
   "source": [
    "#### 1. Write a Python program to create a tuple with different data types.\n"
   ]
  },
  {
   "cell_type": "code",
   "execution_count": 21,
   "metadata": {},
   "outputs": [
    {
     "name": "stdout",
     "output_type": "stream",
     "text": [
      "(11, 11.11, False, 'Exp')\n"
     ]
    }
   ],
   "source": [
    "t=(11,11.11,False,\"Exp\")\n",
    "print(t)"
   ]
  },
  {
   "cell_type": "markdown",
   "metadata": {},
   "source": [
    " #### 2. Write a Python program to add an item in a tuple\n"
   ]
  },
  {
   "cell_type": "code",
   "execution_count": 22,
   "metadata": {},
   "outputs": [
    {
     "name": "stdout",
     "output_type": "stream",
     "text": [
      "(10, 20, 30, 40, 50)\n",
      "(10, 20, 30, 40, 50, 90, 39, 79)\n",
      "(11, 10, 20, 30, 40, 50, 90, 39, 79)\n"
     ]
    }
   ],
   "source": [
    "t = (10,20,30,40,50) \n",
    "print(t)\n",
    "\n",
    "t = t + (90,39,79)\n",
    "print(t)\n",
    "\n",
    "t = (11,) + t[:]\n",
    "print(t)"
   ]
  },
  {
   "cell_type": "markdown",
   "metadata": {},
   "source": [
    " #### 3. Write a Python program to convert a tuple to a string. \n"
   ]
  },
  {
   "cell_type": "code",
   "execution_count": 23,
   "metadata": {},
   "outputs": [
    {
     "name": "stdout",
     "output_type": "stream",
     "text": [
      "python\n"
     ]
    }
   ],
   "source": [
    "t = ('p', 'y', 't', 'h', 'o', 'n')\n",
    "str =  ''.join(t)\n",
    "print(str)"
   ]
  },
  {
   "cell_type": "markdown",
   "metadata": {},
   "source": [
    "#### 4. Write a Python program to find the repeated items of a tuple\n"
   ]
  },
  {
   "cell_type": "code",
   "execution_count": 27,
   "metadata": {},
   "outputs": [
    {
     "name": "stdout",
     "output_type": "stream",
     "text": [
      "4 : 2\n",
      "5 : 2\n",
      "my : 2\n"
     ]
    }
   ],
   "source": [
    "import collections \n",
    "\n",
    "t=[1,2,3,4,5,\"my\",\"my\",5,4]\n",
    "flag = False\n",
    "val = collections.Counter(t) \n",
    "uniqueList = list(set(t)) \n",
    "      \n",
    "for i in uniqueList: \n",
    "    if val[i]>= 2: \n",
    "        flag = True\n",
    "        print(i, \":\", val[i]) \n",
    "              \n",
    "if flag == False: \n",
    "    print(\"Duplicate doesn't exist\") "
   ]
  },
  {
   "cell_type": "markdown",
   "metadata": {},
   "source": [
    "#### 5. Write a Python program to find the length of a tuple.\n"
   ]
  },
  {
   "cell_type": "code",
   "execution_count": 28,
   "metadata": {},
   "outputs": [
    {
     "name": "stdout",
     "output_type": "stream",
     "text": [
      "6\n"
     ]
    }
   ],
   "source": [
    "t = tuple(\"Python\")\n",
    "print(len(t))"
   ]
  },
  {
   "cell_type": "markdown",
   "metadata": {},
   "source": [
    "#### 6. Write a Python program to convert a tuple to a dictionary.\n"
   ]
  },
  {
   "cell_type": "code",
   "execution_count": 1,
   "metadata": {},
   "outputs": [
    {
     "name": "stdout",
     "output_type": "stream",
     "text": [
      "{2: 'w', 3: 'r'}\n",
      "{'w': 2, 'r': 3}\n"
     ]
    }
   ],
   "source": [
    "t = ((2, \"w\"),(3, \"r\"))\n",
    "di = {}\n",
    "di = dict(t)\n",
    "print(di)\n",
    "\n",
    "#Second logic\n",
    "print(dict((y, x) for x, y in t))"
   ]
  },
  {
   "cell_type": "markdown",
   "metadata": {},
   "source": [
    "#### 7. Write a Python program to replace last value of tuples in a list. \n",
    "* Sample list: [(10, 20, 40), (40, 50, 60), (70, 80, 90)]\n",
    "* Expected Output: [(10, 20, 100), (40, 50, 100), (70, 80, 100)]\n"
   ]
  },
  {
   "cell_type": "code",
   "execution_count": 3,
   "metadata": {},
   "outputs": [
    {
     "name": "stdout",
     "output_type": "stream",
     "text": [
      "[(10, 20, 100), (40, 50, 100), (70, 80, 100)]\n"
     ]
    }
   ],
   "source": [
    "l=[(10,20,40),(40,50,60),(70,80,90)]\n",
    "r=[]\n",
    "\n",
    "for i in l:\n",
    "    l=[i[:-1] + (100,)]\n",
    "    r=r+l\n",
    "print(r)"
   ]
  },
  {
   "cell_type": "markdown",
   "metadata": {},
   "source": [
    "#### 8. Write a Python program to replace last value of tuples in a list. \n",
    "* Sample data: [(), (), ('',), ('a', 'b'), ('a', 'b', 'c'), ('d')]\n",
    "* Expected output: [('',), ('a', 'b'), ('a', 'b', 'c'), 'd']\n"
   ]
  },
  {
   "cell_type": "code",
   "execution_count": 4,
   "metadata": {},
   "outputs": [
    {
     "name": "stdout",
     "output_type": "stream",
     "text": [
      "[('',), ('a', 'b'), ('a', 'b', 'c'), 'd']\n"
     ]
    }
   ],
   "source": [
    "l=[(),(),('',),('a','b'),('a','b','c'),('d')]\n",
    "\n",
    "l=[r for r in l if r !=()]\n",
    "print(l)"
   ]
  },
  {
   "cell_type": "markdown",
   "metadata": {},
   "source": [
    "#### 9. Write a Python program to sort a tuple by its float element.\n",
    "* Sample data: [('item1', '12.20'), ('item2', '15.10'), ('item3', '24.5')]\n",
    "* Expected Output: [('item3', '24.5'), ('item2', '15.10'), ('item1', '12.20')]\n"
   ]
  },
  {
   "cell_type": "code",
   "execution_count": 6,
   "metadata": {},
   "outputs": [
    {
     "name": "stdout",
     "output_type": "stream",
     "text": [
      "[('item3', '24.5'), ('item2', '15.10'), ('item1', '12.20')]\n"
     ]
    }
   ],
   "source": [
    "l = [('item1', '12.20'), ('item2', '15.10'), ('item3', '24.5')]\n",
    "l2=[]\n",
    "l2=sorted(l, key=lambda x: float(x[1]), reverse=True)\n",
    "print(l2)"
   ]
  },
  {
   "cell_type": "markdown",
   "metadata": {},
   "source": [
    "#### 10. Write a Python program to count the elements in a list until an element is a tuple\n"
   ]
  },
  {
   "cell_type": "code",
   "execution_count": 7,
   "metadata": {},
   "outputs": [
    {
     "name": "stdout",
     "output_type": "stream",
     "text": [
      "3\n"
     ]
    }
   ],
   "source": [
    "l = [10,20,30,(10,20),40]\n",
    "cnt=0\n",
    "for i in l:\n",
    "    if type(i) == tuple:\n",
    "        break\n",
    "    cnt+=1\n",
    "print(cnt)"
   ]
  },
  {
   "cell_type": "markdown",
   "metadata": {},
   "source": [
    "### Python Conditional Statements and loops\n",
    "\n"
   ]
  },
  {
   "cell_type": "markdown",
   "metadata": {},
   "source": [
    "#### 1. Write a Python program to count the number of even and odd numbers from a series of numbers. \n",
    "* Sample numbers : numbers = (1, 2, 3, 4, 5, 6, 7, 8, 9) \n",
    "##### Expected Output : \n",
    "* Number of even numbers : 4\n",
    "* Number of odd numbers : 5\n"
   ]
  },
  {
   "cell_type": "code",
   "execution_count": 8,
   "metadata": {},
   "outputs": [
    {
     "name": "stdout",
     "output_type": "stream",
     "text": [
      "Even Numbers is : 4\n",
      "Odd Numbers is : 5\n"
     ]
    }
   ],
   "source": [
    "n = (1, 2, 3, 4, 5, 6, 7, 8, 9)\n",
    "odd=0\n",
    "even=0\n",
    "\n",
    "for i in n:\n",
    "    if(i%2==0):\n",
    "        even=even+1\n",
    "    else:\n",
    "        odd=odd+1\n",
    "        \n",
    "print(\"Even Numbers is :\",even)\n",
    "print(\"Odd Numbers is :\",odd)"
   ]
  },
  {
   "cell_type": "markdown",
   "metadata": {},
   "source": [
    "####  2. Write a Python program that prints all the numbers from 0 to 6 except 3 and 6.\n",
    "* Note : Use 'continue' statement. \n",
    "* Expected Output : 0 1 2 4 5 \n"
   ]
  },
  {
   "cell_type": "code",
   "execution_count": 9,
   "metadata": {},
   "outputs": [
    {
     "name": "stdout",
     "output_type": "stream",
     "text": [
      "0 1 2 4 5 "
     ]
    }
   ],
   "source": [
    "for i in range(0,7):  # 0 to 6\n",
    "    if(i==3 or i==6):\n",
    "        continue\n",
    "    else:\n",
    "        print(i,end=' ')"
   ]
  },
  {
   "cell_type": "markdown",
   "metadata": {},
   "source": [
    "#### 3. Write a Python program to get the Fibonacci series between 0 to 50. \n",
    "##### Note : The Fibonacci Sequence is the series of numbers :\n",
    "* 0, 1, 1, 2, 3, 5, 8, 13, 21, .... \n",
    "* Every next number is found by adding up the two numbers before it.\n",
    "* Expected Output : 1 1 2 3 5 8 13 21 34\n"
   ]
  },
  {
   "cell_type": "code",
   "execution_count": 14,
   "metadata": {},
   "outputs": [
    {
     "name": "stdout",
     "output_type": "stream",
     "text": [
      "0, 1, 1, 2, 3, 5, 8, 13, 21, 34, "
     ]
    }
   ],
   "source": [
    "a, b = 0, 1\n",
    "n=50\n",
    "while a < n:\n",
    "    print(a, end=', ')\n",
    "    a, b = b, a+b"
   ]
  },
  {
   "cell_type": "markdown",
   "metadata": {},
   "source": [
    "#### 4. Write a Python program to find numbers between 100 and 400 (both included) where each digit of a number is an even number. The numbers obtained should be printed in a comma-separated sequence\n"
   ]
  },
  {
   "cell_type": "code",
   "execution_count": 15,
   "metadata": {},
   "outputs": [
    {
     "name": "stdout",
     "output_type": "stream",
     "text": [
      "200,202,204,206,208,220,222,224,226,228,240,242,244,246,248,260,262,264,266,268,280,282,284,286,288,400\n"
     ]
    }
   ],
   "source": [
    "values=[]\n",
    "for x in range(100,401):\n",
    "    s=str(x)\n",
    "    if (int(s[0]) %2 == 0) and (int(s[1]) %2 == 0) and (int(s[2]) %2 == 0):\n",
    "        values.append(s)\n",
    "print(\",\".join(values))"
   ]
  },
  {
   "cell_type": "markdown",
   "metadata": {},
   "source": [
    "#### 5. Write a Python program to create the multiplication table (from 1 to 10) of a number.\n"
   ]
  },
  {
   "cell_type": "code",
   "execution_count": 17,
   "metadata": {},
   "outputs": [
    {
     "name": "stdout",
     "output_type": "stream",
     "text": [
      "Enter the number: 7\n",
      "7 x 1 = 7\n",
      "7 x 2 = 14\n",
      "7 x 3 = 21\n",
      "7 x 4 = 28\n",
      "7 x 5 = 35\n",
      "7 x 6 = 42\n",
      "7 x 7 = 49\n",
      "7 x 8 = 56\n",
      "7 x 9 = 63\n",
      "7 x 10 = 70\n"
     ]
    }
   ],
   "source": [
    "num = int(input(\"Enter the number: \"))\n",
    "for i in range(1, 11):\n",
    "    print(num, 'x', i, '=', num*i)"
   ]
  },
  {
   "cell_type": "markdown",
   "metadata": {},
   "source": [
    "### Python functions - Exercises\n"
   ]
  },
  {
   "cell_type": "markdown",
   "metadata": {},
   "source": [
    "#### 1. Write a Python function to find the Max of three numbers.\n"
   ]
  },
  {
   "cell_type": "code",
   "execution_count": 19,
   "metadata": {},
   "outputs": [
    {
     "name": "stdout",
     "output_type": "stream",
     "text": [
      "Largest number is :  14\n",
      "Largest number is :  110\n"
     ]
    }
   ],
   "source": [
    "def maximum(a, b, c): \n",
    "  \n",
    "    if (a >= b) and (a >= b): \n",
    "        largest = a \n",
    "  \n",
    "    elif (b >= a) and (b >= a): \n",
    "        largest = b \n",
    "    else: \n",
    "        largest = c \n",
    "          \n",
    "    return largest \n",
    "  \n",
    "a = 10\n",
    "b = 14\n",
    "c = 12\n",
    "print(\"Largest number is : \",maximum(a, b, c))\n",
    "print(\"Largest number is : \",maximum(110,90,100))"
   ]
  },
  {
   "cell_type": "markdown",
   "metadata": {},
   "source": [
    "#### 2.  Write a Python function to sum all the numbers in a list\n"
   ]
  },
  {
   "cell_type": "code",
   "execution_count": 21,
   "metadata": {},
   "outputs": [
    {
     "name": "stdout",
     "output_type": "stream",
     "text": [
      "Sum of number is :  65\n"
     ]
    }
   ],
   "source": [
    "def sum(n):\n",
    "    result = 0\n",
    "    for x in n:\n",
    "        result=result+x\n",
    "    return result\n",
    "\n",
    "l=[11,12,13,14,15]\n",
    "print(\"Sum of number is : \",sum(l))"
   ]
  },
  {
   "cell_type": "markdown",
   "metadata": {},
   "source": [
    "#### 3. Write a Python function to multiply all the numbers in a list\n"
   ]
  },
  {
   "cell_type": "code",
   "execution_count": 30,
   "metadata": {},
   "outputs": [
    {
     "name": "stdout",
     "output_type": "stream",
     "text": [
      "Sum of number is :  360360\n"
     ]
    }
   ],
   "source": [
    "def mul(n):\n",
    "    result = 1\n",
    "    for x in n:\n",
    "        result=result*x\n",
    "    return result\n",
    "\n",
    "l=[11,12,13,14,15]\n",
    "print(\"Sum of number is : \",mul(l))"
   ]
  },
  {
   "cell_type": "markdown",
   "metadata": {},
   "source": [
    "#### 4. Write a Python function that accepts a string and calculate the number of upper case letters and lower case letters\n"
   ]
  },
  {
   "cell_type": "code",
   "execution_count": 31,
   "metadata": {},
   "outputs": [
    {
     "name": "stdout",
     "output_type": "stream",
     "text": [
      "Total Upper Case is :  3\n",
      "Total Lower Case is :  19\n"
     ]
    }
   ],
   "source": [
    "def check(s):\n",
    "    ucnt=0\n",
    "    lcnt=0\n",
    "    for r in s:\n",
    "        if r.isupper():\n",
    "            ucnt=ucnt+1\n",
    "        elif r.islower():\n",
    "            lcnt=lcnt+1\n",
    "        else:\n",
    "            pass\n",
    "    print(\"Total Upper Case is : \", ucnt)\n",
    "    print(\"Total Lower Case is : \", lcnt)\n",
    "check(\"Machine Learning Courses\")"
   ]
  },
  {
   "cell_type": "markdown",
   "metadata": {},
   "source": [
    "#### 5. Write a Python program to print the even numbers from a given list\n"
   ]
  },
  {
   "cell_type": "code",
   "execution_count": 32,
   "metadata": {},
   "outputs": [
    {
     "name": "stdout",
     "output_type": "stream",
     "text": [
      "Even Numbers is : [2, 4, 6, 8]\n"
     ]
    }
   ],
   "source": [
    "def even(n):\n",
    "    e=0\n",
    "    l=[]\n",
    "    for i in n:\n",
    "        if(i%2==0):\n",
    "            l=l+[i]\n",
    "\n",
    "    print(\"Even Numbers is :\",l)\n",
    "n =[1, 2, 3, 4, 5, 6, 7, 8, 9]        \n",
    "even(n)"
   ]
  },
  {
   "cell_type": "code",
   "execution_count": null,
   "metadata": {},
   "outputs": [],
   "source": []
  }
 ],
 "metadata": {
  "kernelspec": {
   "display_name": "Python 3",
   "language": "python",
   "name": "python3"
  },
  "language_info": {
   "codemirror_mode": {
    "name": "ipython",
    "version": 3
   },
   "file_extension": ".py",
   "mimetype": "text/x-python",
   "name": "python",
   "nbconvert_exporter": "python",
   "pygments_lexer": "ipython3",
   "version": "3.7.4"
  }
 },
 "nbformat": 4,
 "nbformat_minor": 2
}
