{
 "cells": [
  {
   "cell_type": "markdown",
   "metadata": {},
   "source": [
    "#### Q100. You are given words. Some words may repeat. For each word, output its number of occurrences. The output order should correspond with the input order of appearance of the word. See the sample input/output for clarification.\n",
    "\n",
    "If the following string is given as input to the program:\n",
    "\n",
    "4\n",
    "\n",
    "bcdef\n",
    "\n",
    "abcdefg\n",
    "\n",
    "bcde\n",
    "\n",
    "bcdef\n",
    "\n",
    "Then, the output of the program should be:\n",
    "\n",
    "3\n",
    "\n",
    "2 1 1"
   ]
  },
  {
   "cell_type": "code",
   "execution_count": 2,
   "metadata": {},
   "outputs": [
    {
     "name": "stdout",
     "output_type": "stream",
     "text": [
      "4\n",
      "bcdef\n",
      "abcdefg\n",
      "bcde\n",
      "bcdef\n",
      "3\n",
      "2 1 1 "
     ]
    }
   ],
   "source": [
    "n = int(input())\n",
    "\n",
    "word_list = []\n",
    "word_dict = {}\n",
    "\n",
    "for i in range(n):\n",
    "    word = input()\n",
    "    if word not in word_dict:\n",
    "        word_list.append(word)\n",
    "    word_dict[word] = word_dict.get(word, 0) + 1\n",
    "\n",
    "print(len(word_list))\n",
    "for word in word_list:\n",
    "    print(word_dict[word], end=' ')"
   ]
  },
  {
   "cell_type": "markdown",
   "metadata": {},
   "source": [
    "#### Q101. You are given a string.Your task is to count the frequency of letters of the string and print the letters in descending order of frequency.\n",
    "\n",
    "If the following string is given as input to the program:\n",
    "\n",
    "aabbbccde\n",
    "\n",
    "Then, the output of the program should be:\n",
    "\n",
    "b 3\n",
    "\n",
    "a 2\n",
    "\n",
    "c 2\n",
    "\n",
    "d 1\n",
    "\n",
    "e 1"
   ]
  },
  {
   "cell_type": "code",
   "execution_count": 4,
   "metadata": {},
   "outputs": [
    {
     "name": "stdout",
     "output_type": "stream",
     "text": [
      "aabbbccde\n",
      "b 3\n",
      "a 2\n",
      "c 2\n",
      "d 1\n",
      "e 1\n"
     ]
    }
   ],
   "source": [
    "txt = input()\n",
    "my_set = set(txt)\n",
    "arr = []\n",
    "for item in my_set:\n",
    "    arr.append([item,txt.count(item)])\n",
    "tmp = sorted(arr,key = lambda x: (-x[1],x[0]))\n",
    "\n",
    "for i in tmp:\n",
    "    print(i[0]+' '+str(i[1]))"
   ]
  },
  {
   "cell_type": "markdown",
   "metadata": {},
   "source": [
    "#### Q102. Write a Python program that accepts a string and calculate the number of digits and letters.\n",
    "\n",
    "Input:\n",
    "\n",
    "Hello321Bye360\n",
    "\n",
    "Output:\n",
    "\n",
    "Digit - 6\n",
    "\n",
    "Letter - 8\n",
    "\n"
   ]
  },
  {
   "cell_type": "code",
   "execution_count": 5,
   "metadata": {},
   "outputs": [
    {
     "name": "stdout",
     "output_type": "stream",
     "text": [
      "Hello321Bye360\n",
      "Digit - 6\n",
      "Letter - 8\n"
     ]
    }
   ],
   "source": [
    "txt = input()\n",
    "digit,letter = 0,0\n",
    "\n",
    "for i in txt:\n",
    "    digit+=i.isdigit()\n",
    "    letter+=i.isalpha()\n",
    "\n",
    "print('Digit -',digit)\n",
    "print('Letter -',letter)"
   ]
  },
  {
   "cell_type": "markdown",
   "metadata": {},
   "source": [
    "#### Q103. Given a number N.Find Sum of 1 to N Using Recursion\n",
    "\n",
    "Input:\n",
    "\n",
    "5\n",
    "\n",
    "Output:\n",
    "\n",
    "15\n",
    "\n"
   ]
  },
  {
   "cell_type": "code",
   "execution_count": 6,
   "metadata": {},
   "outputs": [
    {
     "name": "stdout",
     "output_type": "stream",
     "text": [
      "Enter Number : 5\n",
      "15\n"
     ]
    }
   ],
   "source": [
    "def rec(n):\n",
    "    if n == 0:\n",
    "        return n\n",
    "    return rec(n-1) + n\n",
    "\n",
    "\n",
    "n = int(input(\"Enter Number : \"))\n",
    "sum = rec(n)\n",
    "print(sum)"
   ]
  },
  {
   "cell_type": "markdown",
   "metadata": {},
   "source": [
    "  ###### Finally Completed\n",
    "\n",
    "😂😂😂😂😂😂😂😂😂😂😂😂😂😂😂😂😂😂😂😂😂😂😂"
   ]
  }
 ],
 "metadata": {
  "kernelspec": {
   "display_name": "Python 3",
   "language": "python",
   "name": "python3"
  },
  "language_info": {
   "codemirror_mode": {
    "name": "ipython",
    "version": 3
   },
   "file_extension": ".py",
   "mimetype": "text/x-python",
   "name": "python",
   "nbconvert_exporter": "python",
   "pygments_lexer": "ipython3",
   "version": "3.7.4"
  }
 },
 "nbformat": 4,
 "nbformat_minor": 2
}
