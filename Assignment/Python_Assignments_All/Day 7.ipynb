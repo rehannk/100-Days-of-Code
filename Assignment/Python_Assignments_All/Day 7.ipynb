{
 "cells": [
  {
   "cell_type": "markdown",
   "metadata": {},
   "source": [
    "#### Q20. Define a class with a generator which can iterate the numbers, which are divisible by 7, between a given range 0 and n."
   ]
  },
  {
   "cell_type": "code",
   "execution_count": 1,
   "metadata": {},
   "outputs": [
    {
     "name": "stdout",
     "output_type": "stream",
     "text": [
      "Enter Number : 99\n",
      "0\n",
      "7\n",
      "14\n",
      "21\n",
      "28\n",
      "35\n",
      "42\n",
      "49\n",
      "56\n",
      "63\n",
      "70\n",
      "77\n",
      "84\n",
      "91\n",
      "98\n"
     ]
    }
   ],
   "source": [
    "class Main:\n",
    "\n",
    "    def divisible(self,n):\n",
    "        for i in range(n+1):\n",
    "            if i%7==0:\n",
    "                print(i)\n",
    "\n",
    "n=int(input(\"Enter Number : \"))\n",
    "obj=Main()\n",
    "obj.divisible(n)"
   ]
  },
  {
   "cell_type": "markdown",
   "metadata": {},
   "source": [
    "#### Q21. A robot moves in a plane starting from the original point (0,0). The robot can move toward UP, DOWN, LEFT and RIGHT with a given steps. The trace of robot movement is shown as the following:\n",
    "\n",
    "UP 5\n",
    "\n",
    "DOWN 3\n",
    "\n",
    "LEFT 3\n",
    "\n",
    "RIGHT 2\n",
    "\n",
    "\n",
    "\n",
    "The numbers after the direction are steps. Please write a program to compute the distance from current position after a sequence of movement and original point. If the distance is a float, then just print the nearest integer. Example: If the following tuples are given as input to the program:\n",
    "\n",
    "UP 5\n",
    "\n",
    "DOWN 3\n",
    "\n",
    "LEFT 3\n",
    "\n",
    "RIGHT 2\n",
    "\n",
    "Then, the output of the program should be:\n",
    "\n",
    "2"
   ]
  },
  {
   "cell_type": "code",
   "execution_count": 3,
   "metadata": {},
   "outputs": [
    {
     "name": "stdout",
     "output_type": "stream",
     "text": [
      "UP 5\n",
      "DOWN 3\n",
      "LEFT 3\n",
      "RIGHT 2\n",
      "\n",
      "2\n"
     ]
    }
   ],
   "source": [
    "import  math\n",
    "\n",
    "x,y = 0,0\n",
    "while True:\n",
    "    num = input().split()\n",
    "    if not num:\n",
    "        break\n",
    "    if num[0]=='UP':                 \n",
    "        x-=int(num[1])                \n",
    "    if num[0]=='DOWN':\n",
    "        x+=int(num[1])\n",
    "    if num[0]=='LEFT':\n",
    "        y-=int(num[1])\n",
    "    if num[0]=='RIGHT':\n",
    "        y+=int(num[1])\n",
    "                                   \n",
    "res = round(math.sqrt(x**2 + y**2)) \n",
    "print(res)"
   ]
  }
 ],
 "metadata": {
  "kernelspec": {
   "display_name": "Python 3",
   "language": "python",
   "name": "python3"
  },
  "language_info": {
   "codemirror_mode": {
    "name": "ipython",
    "version": 3
   },
   "file_extension": ".py",
   "mimetype": "text/x-python",
   "name": "python",
   "nbconvert_exporter": "python",
   "pygments_lexer": "ipython3",
   "version": "3.7.4"
  }
 },
 "nbformat": 4,
 "nbformat_minor": 2
}
