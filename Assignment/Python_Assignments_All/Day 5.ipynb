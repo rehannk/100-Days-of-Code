{
 "cells": [
  {
   "cell_type": "markdown",
   "metadata": {},
   "source": [
    "#### Q16. Use a list comprehension to square each odd number in a list. The list is input by a sequence of comma-separated numbers. Suppose the following input is supplied to the program:\n",
    "\n",
    "1,2,3,4,5,6,7,8,9\n",
    "\n",
    "Then, the output should be:\n",
    "\n",
    "1,9,25,49,81"
   ]
  },
  {
   "cell_type": "code",
   "execution_count": 2,
   "metadata": {},
   "outputs": [
    {
     "name": "stdout",
     "output_type": "stream",
     "text": [
      "Enter number1,2,3,4,5,6,7,8,9\n",
      "1,9,25,49,81\n"
     ]
    }
   ],
   "source": [
    "lst=[]\n",
    "num=input(\"Enter number\").split(',')\n",
    "\n",
    "for i in num:\n",
    "    if (int(i)%2)!=0:\n",
    "        lst.append(str(int(i)**2))\n",
    "\n",
    "print(\",\".join(lst))"
   ]
  },
  {
   "cell_type": "markdown",
   "metadata": {},
   "source": [
    "#### Q17. Write a program that computes the net amount of a bank account based a transaction log from console input. The transaction log format is shown as following:\n",
    "\n",
    "D 100    W 200\n",
    "\n",
    "D means deposit while W means withdrawal.\n",
    "\n",
    "Suppose the following input is supplied to the program:\n",
    "\n",
    "D 300\n",
    "\n",
    "D 300\n",
    "\n",
    "W 200\n",
    "\n",
    "D 100\n",
    "\n",
    "Then, the output should be:\n",
    "\n",
    "500"
   ]
  },
  {
   "cell_type": "code",
   "execution_count": 3,
   "metadata": {},
   "outputs": [
    {
     "name": "stdout",
     "output_type": "stream",
     "text": [
      "D 300\n",
      "D 300\n",
      "W 200\n",
      "D 100\n",
      "\n",
      "500\n"
     ]
    }
   ],
   "source": [
    "total = 0\n",
    "while True:\n",
    "    s = input().split()\n",
    "    if len(s)==0:\n",
    "        break\n",
    "    cm,num = map(str,s)    \n",
    "\n",
    "    if cm=='D':\n",
    "        total+=int(num)\n",
    "    if cm=='W':\n",
    "        total-=int(num)\n",
    "\n",
    "print(total)"
   ]
  }
 ],
 "metadata": {
  "kernelspec": {
   "display_name": "Python 3",
   "language": "python",
   "name": "python3"
  },
  "language_info": {
   "codemirror_mode": {
    "name": "ipython",
    "version": 3
   },
   "file_extension": ".py",
   "mimetype": "text/x-python",
   "name": "python",
   "nbconvert_exporter": "python",
   "pygments_lexer": "ipython3",
   "version": "3.7.4"
  }
 },
 "nbformat": 4,
 "nbformat_minor": 2
}
