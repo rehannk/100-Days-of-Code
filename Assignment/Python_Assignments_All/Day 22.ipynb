{
 "cells": [
  {
   "cell_type": "markdown",
   "metadata": {},
   "source": [
    "#### Q90. Please write a program which count and print the numbers of each character in a string input by console.\n",
    "\n",
    "Example: If the following string is given as input to the program:\n",
    "\n",
    "abcdefgabc\n",
    "\n",
    "Then, the output of the program should be:\n",
    "\n",
    "a,2\n",
    "\n",
    "c,2\n",
    "\n",
    "b,2\n",
    "\n",
    "e,1\n",
    "\n",
    "d,1\n",
    "\n",
    "g,1\n",
    "\n",
    "f,1"
   ]
  },
  {
   "cell_type": "code",
   "execution_count": 2,
   "metadata": {},
   "outputs": [
    {
     "name": "stdout",
     "output_type": "stream",
     "text": [
      "abcdefgabc\n",
      "a,2\n",
      "b,2\n",
      "c,2\n",
      "d,1\n",
      "e,1\n",
      "f,1\n",
      "g,1\n"
     ]
    }
   ],
   "source": [
    "import string\n",
    "\n",
    "s = input()\n",
    "for letter in string.ascii_lowercase:\n",
    "    cnt = s.count(letter)\n",
    "    if cnt > 0:\n",
    "        print(\"{},{}\".format(letter,cnt))"
   ]
  },
  {
   "cell_type": "markdown",
   "metadata": {},
   "source": [
    "#### Q91. Please write a program which accepts a string from console and print it in reverse order.\n",
    "\n",
    "Example: If the following string is given as input to the program:*\n",
    "\n",
    "rise to vote sir\n",
    "\n",
    "Then, the output of the program should be:\n",
    "\n",
    "ris etov ot esir"
   ]
  },
  {
   "cell_type": "code",
   "execution_count": 4,
   "metadata": {},
   "outputs": [
    {
     "name": "stdout",
     "output_type": "stream",
     "text": [
      "rise to vote sir\n",
      "ris etov ot esir\n"
     ]
    }
   ],
   "source": [
    "text = input()\n",
    "rev = ''.join(reversed(text))\n",
    "print(rev)"
   ]
  },
  {
   "cell_type": "markdown",
   "metadata": {},
   "source": [
    "#### Q92. Please write a program which accepts a string from console and print the characters that have even indexes.\n",
    "\n",
    "Example: If the following string is given as input to the program:\n",
    "\n",
    "H1e2l3l4o5w6o7r8l9d\n",
    "\n",
    "Then, the output of the program should be:\n",
    "\n",
    "Helloworld"
   ]
  },
  {
   "cell_type": "code",
   "execution_count": 5,
   "metadata": {},
   "outputs": [
    {
     "name": "stdout",
     "output_type": "stream",
     "text": [
      "Helloworld\n"
     ]
    }
   ],
   "source": [
    "text = \"H1e2l3l4o5w6o7r8l9d\"\n",
    "ls = [text[i] for i in range(len(text)) if i%2 ==0]\n",
    "print(''.join(ls))"
   ]
  },
  {
   "cell_type": "markdown",
   "metadata": {},
   "source": [
    "#### Q93. Please write a program which prints all permutations of [1,2,3]"
   ]
  },
  {
   "cell_type": "code",
   "execution_count": 6,
   "metadata": {},
   "outputs": [
    {
     "name": "stdout",
     "output_type": "stream",
     "text": [
      "[(1, 2, 3), (1, 3, 2), (2, 1, 3), (2, 3, 1), (3, 1, 2), (3, 2, 1)]\n"
     ]
    }
   ],
   "source": [
    "import itertools\n",
    "print(list(itertools.permutations([1,2,3])))"
   ]
  },
  {
   "cell_type": "markdown",
   "metadata": {},
   "source": [
    "#### Q94. Write a program to solve a classic ancient Chinese puzzle: We count 35 heads and 94 legs among the chickens and rabbits in a farm. How many rabbits and how many chickens do we have?"
   ]
  },
  {
   "cell_type": "code",
   "execution_count": 7,
   "metadata": {},
   "outputs": [
    {
     "name": "stdout",
     "output_type": "stream",
     "text": [
      "Number of chickens are :  23\n",
      "Number of rabbits are  :  12\n"
     ]
    }
   ],
   "source": [
    "def solve(heads,legs):\n",
    "    for r in range(heads+1):\n",
    "        c=heads-r\n",
    "        if 2*c+4*r==legs:\n",
    "            return c,r\n",
    "\n",
    "heads=35\n",
    "legs=94\n",
    "res=solve(heads,legs)\n",
    "print(\"Number of chickens are : \",res[0])\n",
    "print(\"Number of rabbits are  : \",res[1])"
   ]
  }
 ],
 "metadata": {
  "kernelspec": {
   "display_name": "Python 3",
   "language": "python",
   "name": "python3"
  },
  "language_info": {
   "codemirror_mode": {
    "name": "ipython",
    "version": 3
   },
   "file_extension": ".py",
   "mimetype": "text/x-python",
   "name": "python",
   "nbconvert_exporter": "python",
   "pygments_lexer": "ipython3",
   "version": "3.7.4"
  }
 },
 "nbformat": 4,
 "nbformat_minor": 2
}
