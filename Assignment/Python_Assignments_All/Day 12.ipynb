{
 "cells": [
  {
   "cell_type": "markdown",
   "metadata": {},
   "source": [
    "#### Q44. Write a program which can map() to make a list whose elements are square of numbers between 1 and 20 (both included)."
   ]
  },
  {
   "cell_type": "code",
   "execution_count": 1,
   "metadata": {},
   "outputs": [
    {
     "name": "stdout",
     "output_type": "stream",
     "text": [
      "[1, 4, 9, 16, 25, 36, 49, 64, 81, 100, 121, 144, 169, 196, 225, 256, 289, 324, 361, 400]\n"
     ]
    }
   ],
   "source": [
    "def sqre(x):\n",
    "    return x*x\n",
    "\n",
    "li = list(map(sqre, range(1,21)))\n",
    "print(li)"
   ]
  },
  {
   "cell_type": "markdown",
   "metadata": {},
   "source": [
    "#### Q45. Define a class named American which has a static method called printNationality."
   ]
  },
  {
   "cell_type": "code",
   "execution_count": 2,
   "metadata": {},
   "outputs": [
    {
     "name": "stdout",
     "output_type": "stream",
     "text": [
      "Indian\n",
      "Indian\n"
     ]
    }
   ],
   "source": [
    "class American():\n",
    "    \n",
    "    @staticmethod\n",
    "    def printNationality():\n",
    "        print(\"Indian\")\n",
    "\n",
    "obj=American()\n",
    "obj.printNationality()\n",
    "\n",
    "American.printNationality()"
   ]
  },
  {
   "cell_type": "markdown",
   "metadata": {},
   "source": [
    "#### Q46. Define a class named American and its subclass NewYorker."
   ]
  },
  {
   "cell_type": "code",
   "execution_count": 3,
   "metadata": {},
   "outputs": [
    {
     "name": "stdout",
     "output_type": "stream",
     "text": [
      "Its parent class\n",
      "Its child class\n",
      "<__main__.American object at 0x000000476605CC08>\n",
      "<__main__.NewYorker object at 0x000000476605CBC8>\n"
     ]
    }
   ],
   "source": [
    "class American():\n",
    "    print(\"Its parent class\")\n",
    "\n",
    "class NewYorker(American):\n",
    "    print(\"Its child class\")\n",
    "\n",
    "parent = American()\n",
    "child = NewYorker()\n",
    "\n",
    "print(parent)\n",
    "print(child)"
   ]
  }
 ],
 "metadata": {
  "kernelspec": {
   "display_name": "Python 3",
   "language": "python",
   "name": "python3"
  },
  "language_info": {
   "codemirror_mode": {
    "name": "ipython",
    "version": 3
   },
   "file_extension": ".py",
   "mimetype": "text/x-python",
   "name": "python",
   "nbconvert_exporter": "python",
   "pygments_lexer": "ipython3",
   "version": "3.7.4"
  }
 },
 "nbformat": 4,
 "nbformat_minor": 2
}
