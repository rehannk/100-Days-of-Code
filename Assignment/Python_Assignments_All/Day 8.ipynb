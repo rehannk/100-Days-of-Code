{
 "cells": [
  {
   "cell_type": "markdown",
   "metadata": {},
   "source": [
    "#### Q22. Write a program to compute the frequency of the words from the input. The output should output after sorting the key alphanumerically.\n",
    "\n",
    "Suppose the following input is supplied to the program:\n",
    "\n",
    "New to Python or choosing between Python 2 and Python 3? Read Python 2 or Python 3.\n",
    "\n",
    "Then, the output should be:\n",
    "\n",
    "2:2\n",
    "\n",
    "3.:1\n",
    "\n",
    "3?:1\n",
    "\n",
    "New:1\n",
    "\n",
    "Python:5\n",
    "\n",
    "Read:1\n",
    "\n",
    "and:1\n",
    "\n",
    "between:1\n",
    "\n",
    "choosing:1\n",
    "\n",
    "or:2\n",
    "\n",
    "to:1"
   ]
  },
  {
   "cell_type": "code",
   "execution_count": 1,
   "metadata": {},
   "outputs": [
    {
     "name": "stdout",
     "output_type": "stream",
     "text": [
      "New to Python or choosing between Python 2 and Python 3? Read Python 2 or Python 3.\n",
      "2 : 2\n",
      "3. : 1\n",
      "3? : 1\n",
      "New : 1\n",
      "Python : 5\n",
      "Read : 1\n",
      "and : 1\n",
      "between : 1\n",
      "choosing : 1\n",
      "or : 2\n",
      "to : 1\n"
     ]
    }
   ],
   "source": [
    "sent = input().split()\n",
    "fr = sorted(set(sent))\n",
    "\n",
    "for i in fr:\n",
    "    print(i + \" : \" + str(sent.count(i)))"
   ]
  },
  {
   "cell_type": "markdown",
   "metadata": {},
   "source": [
    "#### Q23. Write a method which can calculate square value of number"
   ]
  },
  {
   "cell_type": "code",
   "execution_count": 5,
   "metadata": {},
   "outputs": [
    {
     "name": "stdout",
     "output_type": "stream",
     "text": [
      "Enter number : 5\n",
      "25\n"
     ]
    }
   ],
   "source": [
    "def sqrnum(n):\n",
    "    return n**2\n",
    "\n",
    "n=int(input(\"Enter number : \"))\n",
    "print(sqrnum(n))"
   ]
  },
  {
   "cell_type": "markdown",
   "metadata": {},
   "source": [
    "#### Q24. Python has many built-in functions, and if you do not know how to use it, you can read document online or find some books. But Python has a built-in document function for every built-in functions.\n",
    "\n",
    "Please write a program to print some Python built-in functions documents, such as abs(), int(), raw_input()\n",
    "\n",
    "And add document for your own function"
   ]
  },
  {
   "cell_type": "code",
   "execution_count": 10,
   "metadata": {},
   "outputs": [
    {
     "name": "stdout",
     "output_type": "stream",
     "text": [
      "abs Example : 11\n",
      "int(123.23) is: 123\n",
      "Binary 1010 is = Decimal  10\n",
      "Enter anyhingRehan\n",
      "Input is : Rehan\n"
     ]
    }
   ],
   "source": [
    "'''\n",
    "print(abs.__doc__)\n",
    "print(\"\\n**************************************************************\")\n",
    "print(int.__doc__)\n",
    "print(\"\\n**************************************************************\")\n",
    "print(input.__doc__)\n",
    "print(\"\\n**************************************************************\")\n",
    "\n",
    "'''\n",
    "\n",
    "#abs\n",
    "a=-11\n",
    "print(\"abs Example :\" ,abs(a))\n",
    "\n",
    "#int\n",
    "print(\"int(123.23) is:\", int(123.23))\n",
    "print(\"Binary 1010 is = Decimal \", int('1010', 2))\n",
    "\n",
    "#input\n",
    "n=input(\"Enter anyhing\")\n",
    "print(\"Input is :\",n)"
   ]
  },
  {
   "cell_type": "markdown",
   "metadata": {},
   "source": [
    "#### Q25. Define a class, which have a class parameter and have a same instance parameter."
   ]
  },
  {
   "cell_type": "code",
   "execution_count": 7,
   "metadata": {},
   "outputs": [
    {
     "name": "stdout",
     "output_type": "stream",
     "text": [
      "Bike name is: Avenger\n"
     ]
    }
   ],
   "source": [
    "class Bike:\n",
    "    name=\"Bike\"\n",
    "    \n",
    "    def __init__(self,name=None):\n",
    "        self.name=name\n",
    "        \n",
    "avg=Bike()\n",
    "avg.name=\"Avenger\"\n",
    "\n",
    "print(Bike.name + \" name is: \" + avg.name)"
   ]
  }
 ],
 "metadata": {
  "kernelspec": {
   "display_name": "Python 3",
   "language": "python",
   "name": "python3"
  },
  "language_info": {
   "codemirror_mode": {
    "name": "ipython",
    "version": 3
   },
   "file_extension": ".py",
   "mimetype": "text/x-python",
   "name": "python",
   "nbconvert_exporter": "python",
   "pygments_lexer": "ipython3",
   "version": "3.7.4"
  }
 },
 "nbformat": 4,
 "nbformat_minor": 2
}
