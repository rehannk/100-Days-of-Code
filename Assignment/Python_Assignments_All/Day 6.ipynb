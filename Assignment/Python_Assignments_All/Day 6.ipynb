{
 "cells": [
  {
   "cell_type": "markdown",
   "metadata": {},
   "source": [
    "#### Q18. A website requires the users to input username and password to register. Write a program to check the validity of password input by users.\n",
    "\n",
    "Following are the criteria for checking the password:\n",
    "\n",
    "- At least 1 letter between [a-z]\n",
    "- At least 1 number between [0-9]\n",
    "- At least 1 letter between [A-Z]\n",
    "- At least 1 character from [$#@]\n",
    "- Minimum length of transaction password: 6\n",
    "- Maximum length of transaction password: 12\n",
    "\n",
    "Your program should accept a sequence of comma separated passwords and will check them according to the above criteria. Passwords that match the criteria are to be printed, each separated by a comma.\n",
    "\n",
    "Example\n",
    "\n",
    "If the following passwords are given as input to the program:\n",
    "\n",
    "ABd1234@1,a F1#,2w3E*,2We3345\n",
    "\n",
    "Then, the output of the program should be:\n",
    "\n",
    "ABd1234@1"
   ]
  },
  {
   "cell_type": "code",
   "execution_count": 6,
   "metadata": {},
   "outputs": [
    {
     "name": "stdout",
     "output_type": "stream",
     "text": [
      "Enter PasswordsABd1234@1,a F1#,2w3E*,2We3345\n",
      "ABd1234@1\n"
     ]
    }
   ],
   "source": [
    "def is_lower(x):\n",
    "    for i in x:\n",
    "        if i>='a' and i<='z':\n",
    "            return True\n",
    "    return False\n",
    "\n",
    "def is_upper(x):\n",
    "    for i in x:\n",
    "        if i>='A' and i<='Z':\n",
    "            return True\n",
    "    return False\n",
    "\n",
    "def is_number(x):\n",
    "    for i in x:\n",
    "        if i>='0' and i<='9':\n",
    "            return True\n",
    "    return False\n",
    "\n",
    "def is_special(x):\n",
    "    for i in x:\n",
    "        if i=='@' or i=='$' or i=='#':\n",
    "            return True\n",
    "    return False\n",
    "\n",
    "\n",
    "lst=[]\n",
    "pas=input(\"Enter Passwords\").split(',')\n",
    "\n",
    "for i in pas:\n",
    "    length=len(i)\n",
    "    if length >= 6 and length <= 12 and is_lower(i) and is_upper(i) and is_number(i) and is_special(i):\n",
    "        lst.append(i)\n",
    "        \n",
    "print(\",\".join(lst))"
   ]
  },
  {
   "cell_type": "markdown",
   "metadata": {},
   "source": [
    "#### Q19. You are required to write a program to sort the (name, age, score) tuples by ascending order where name is string, age and score are numbers. The tuples are input by console. The sort criteria is:\n",
    "\n",
    "- 1: Sort based on name\n",
    "- 2: Then sort based on age\n",
    "- 3: Then sort by score\n",
    "\n",
    "The priority is that name > age > score.\n",
    "\n",
    "If the following tuples are given as input to the program:\n",
    "\n",
    "Tom,19,80\n",
    "\n",
    "John,20,90\n",
    "\n",
    "Jony,17,91\n",
    "\n",
    "Jony,17,93\n",
    "\n",
    "Json,21,85\n",
    "\n",
    "Then, the output of the program should be:\n",
    "\n",
    "[('John', '20', '90'), ('Jony', '17', '91'), ('Jony', '17', '93'), ('Json', '21', '85'), ('Tom', '19', '80')]"
   ]
  },
  {
   "cell_type": "code",
   "execution_count": 7,
   "metadata": {},
   "outputs": [
    {
     "name": "stdout",
     "output_type": "stream",
     "text": [
      "Tom,19,80\n",
      "John,20,90\n",
      "Jony,17,91\n",
      "Jony,17,93\n",
      "Json,21,85\n",
      "\n",
      "[('John', '20', '90'), ('Jony', '17', '91'), ('Jony', '17', '93'), ('Json', '21', '85'), ('Tom', '19', '80')]\n"
     ]
    }
   ],
   "source": [
    "lst = []\n",
    "while True:\n",
    "    data = input().split(',')\n",
    "    if not data[0]:                \n",
    "        break\n",
    "    lst.append(tuple(data))\n",
    "\n",
    "lst.sort(key= lambda x:(x[0],x[1],x[2]))\n",
    "print(lst)"
   ]
  }
 ],
 "metadata": {
  "kernelspec": {
   "display_name": "Python 3",
   "language": "python",
   "name": "python3"
  },
  "language_info": {
   "codemirror_mode": {
    "name": "ipython",
    "version": 3
   },
   "file_extension": ".py",
   "mimetype": "text/x-python",
   "name": "python",
   "nbconvert_exporter": "python",
   "pygments_lexer": "ipython3",
   "version": "3.7.4"
  }
 },
 "nbformat": 4,
 "nbformat_minor": 2
}
